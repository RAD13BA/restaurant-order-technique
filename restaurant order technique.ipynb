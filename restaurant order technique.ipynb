{
 "cells": [
  {
   "cell_type": "code",
   "execution_count": 1,
   "id": "d109f07e",
   "metadata": {},
   "outputs": [
    {
     "name": "stdout",
     "output_type": "stream",
     "text": [
      "{'Pizza': 15.5, 'Pasta': 14.99, 'Burger': 12.49, 'Salad': 13.39, 'Coffee': 5.99}\n"
     ]
    }
   ],
   "source": [
    "# def the menu of the restaurant\n",
    "\n",
    "menu = {\n",
    "       'Pizza':15.50,\n",
    "       'Pasta':14.99,\n",
    "       'Burger':12.49,\n",
    "       'Salad':13.39,\n",
    "       'Coffee':5.99\n",
    "    }\n",
    "print(menu)"
   ]
  },
  {
   "cell_type": "code",
   "execution_count": 2,
   "id": "e5324112",
   "metadata": {},
   "outputs": [
    {
     "name": "stdout",
     "output_type": "stream",
     "text": [
      "Welcome to Puri Restaurant\n",
      "'Pizza':$15.50\n",
      "'Pasta':$14.99\n",
      "'Burger':$12.49\n",
      "'Salad':$13.39\n",
      "'Coffee':$5.99\n",
      "\n"
     ]
    }
   ],
   "source": [
    "#Greet\n",
    "print('Welcome to Puri Restaurant')\n",
    "print(\"'Pizza':$15.50\\n'Pasta':$14.99\\n'Burger':$12.49\\n'Salad':$13.39\\n'Coffee':$5.99\\n\") #so that they come row wise"
   ]
  },
  {
   "cell_type": "code",
   "execution_count": 3,
   "id": "273628bc",
   "metadata": {},
   "outputs": [
    {
     "name": "stdout",
     "output_type": "stream",
     "text": [
      "Enter the name of item you want to order = PizzaPizza\n",
      "Your item Pizza has been added to your order\n"
     ]
    }
   ],
   "source": [
    "order_total = 0\n",
    "# 15.50 + 14.99 = 30.49\n",
    "\n",
    "item_1 = input(\"Enter the name of item you want to order = Pizza\")\n",
    "if item_1 in menu:\n",
    "    order_total += menu[item_1] #0+15.50\n",
    "    print(f\"Your item {item_1} has been added to your order\")\n",
    "\n",
    "else:\n",
    "    print(f\"ordered item {item_1} is not available yet!\")\n",
    "    \n"
   ]
  },
  {
   "cell_type": "code",
   "execution_count": 4,
   "id": "1540048b",
   "metadata": {},
   "outputs": [
    {
     "name": "stdout",
     "output_type": "stream",
     "text": [
      "Enter the name of item you want to order = JuiceOrange\n",
      "ordered item Orange is not available yet!\n"
     ]
    }
   ],
   "source": [
    "order_total = 0\n",
    "# 15.50 + 14.99 = 30.49\n",
    "\n",
    "item_1 = input(\"Enter the name of item you want to order = Juice\")\n",
    "if item_1 in menu:\n",
    "    order_total += menu[item_1] #0+15.50\n",
    "    print(f\"Your item {item_1} has been added to your order\")\n",
    "\n",
    "else:\n",
    "    print(f\"ordered item {item_1} is not available yet!\")"
   ]
  },
  {
   "cell_type": "code",
   "execution_count": 4,
   "id": "5b9e48fb",
   "metadata": {},
   "outputs": [
    {
     "name": "stdout",
     "output_type": "stream",
     "text": [
      "Do you want to add another item? (Yes/No)Yes\n",
      "Enter the name of second item = Coffee\n",
      "Item Coffeehas been added to order\n"
     ]
    }
   ],
   "source": [
    "another_order = input(\"Do you want to add another item? (Yes/No)\")\n",
    "if another_order == \"Yes\":\n",
    "    item_2 = input(\"Enter the name of second item = \")\n",
    "    if item_2 in menu:\n",
    "        order_total += menu[item_2]\n",
    "        print(f\"Item {item_2}has been added to order\")\n",
    "    else:\n",
    "        print(f\"Ordered item {item_2} is not available!\")\n",
    "        \n"
   ]
  },
  {
   "cell_type": "code",
   "execution_count": 5,
   "id": "12805a10",
   "metadata": {},
   "outputs": [
    {
     "name": "stdout",
     "output_type": "stream",
     "text": [
      "The total amount of items to pay is 21.490000000000002\n"
     ]
    }
   ],
   "source": [
    "print(f\"The total amount of items to pay is {order_total}\")"
   ]
  },
  {
   "cell_type": "code",
   "execution_count": null,
   "id": "c59b8c29",
   "metadata": {},
   "outputs": [],
   "source": []
  }
 ],
 "metadata": {
  "kernelspec": {
   "display_name": "Python 3 (ipykernel)",
   "language": "python",
   "name": "python3"
  },
  "language_info": {
   "codemirror_mode": {
    "name": "ipython",
    "version": 3
   },
   "file_extension": ".py",
   "mimetype": "text/x-python",
   "name": "python",
   "nbconvert_exporter": "python",
   "pygments_lexer": "ipython3",
   "version": "3.10.9"
  }
 },
 "nbformat": 4,
 "nbformat_minor": 5
}
